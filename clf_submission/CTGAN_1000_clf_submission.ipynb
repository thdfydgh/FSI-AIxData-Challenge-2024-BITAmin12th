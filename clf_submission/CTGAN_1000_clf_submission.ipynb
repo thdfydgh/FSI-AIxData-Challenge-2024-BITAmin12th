{
  "cells": [
    {
      "cell_type": "markdown",
      "metadata": {
        "id": "qXedHKu_i56R"
      },
      "source": [
        "0. 필요한 모듈 로드"
      ]
    },
    {
      "cell_type": "code",
      "execution_count": 28,
      "metadata": {
        "execution": {
          "iopub.execute_input": "2024-08-26T01:37:07.064522Z",
          "iopub.status.busy": "2024-08-26T01:37:07.063483Z",
          "iopub.status.idle": "2024-08-26T01:37:07.070147Z",
          "shell.execute_reply": "2024-08-26T01:37:07.069168Z",
          "shell.execute_reply.started": "2024-08-26T01:37:07.064319Z"
        },
        "id": "eMrGslblBM0G",
        "trusted": true
      },
      "outputs": [],
      "source": [
        "from sdv.metadata import SingleTableMetadata\n",
        "from sdv.single_table import CTGANSynthesizer\n",
        "\n",
        "\n",
        "import os\n",
        "import zipfile\n",
        "\n",
        "\n",
        "import pandas as pd\n",
        "import numpy as np\n",
        "from scipy import stats\n",
        "from tqdm import tqdm\n",
        "import torch\n",
        "\n",
        "\n",
        "import warnings\n",
        "warnings.filterwarnings('ignore')"
      ]
    },
    {
      "cell_type": "markdown",
      "metadata": {
        "id": "hjj4-zEdjx1O"
      },
      "source": [
        "1. 데이터 로드 / train, val 나누기"
      ]
    },
    {
      "cell_type": "code",
      "execution_count": 29,
      "metadata": {
        "execution": {
          "iopub.execute_input": "2024-08-26T01:37:08.843051Z",
          "iopub.status.busy": "2024-08-26T01:37:08.842063Z",
          "iopub.status.idle": "2024-08-26T01:37:11.542248Z",
          "shell.execute_reply": "2024-08-26T01:37:11.541451Z",
          "shell.execute_reply.started": "2024-08-26T01:37:08.843015Z"
        },
        "id": "wmvY9HkrBM0M",
        "trusted": true
      },
      "outputs": [],
      "source": [
        "train_all = pd.read_csv(\"../data/train.csv\")"
      ]
    },
    {
      "cell_type": "code",
      "execution_count": 30,
      "metadata": {
        "execution": {
          "iopub.execute_input": "2024-08-26T01:37:11.565718Z",
          "iopub.status.busy": "2024-08-26T01:37:11.565432Z",
          "iopub.status.idle": "2024-08-26T01:37:11.614814Z",
          "shell.execute_reply": "2024-08-26T01:37:11.613992Z",
          "shell.execute_reply.started": "2024-08-26T01:37:11.565695Z"
        },
        "id": "3VOTx6fTBM0N",
        "trusted": true
      },
      "outputs": [],
      "source": [
        "train = train_all.drop(columns=\"ID\")"
      ]
    },
    {
      "cell_type": "code",
      "execution_count": 31,
      "metadata": {
        "execution": {
          "iopub.execute_input": "2024-08-26T01:37:12.964464Z",
          "iopub.status.busy": "2024-08-26T01:37:12.963759Z",
          "iopub.status.idle": "2024-08-26T01:37:13.335423Z",
          "shell.execute_reply": "2024-08-26T01:37:13.334584Z",
          "shell.execute_reply.started": "2024-08-26T01:37:12.964430Z"
        },
        "id": "KLfsvUISBM0O",
        "trusted": true
      },
      "outputs": [],
      "source": [
        "from sklearn.model_selection import train_test_split\n",
        "\n",
        "X_train, y_train = train.drop(columns=\"Fraud_Type\"), train[\"Fraud_Type\"]\n",
        "\n",
        "X_train, X_val, y_train, y_val = train_test_split(X_train, y_train, test_size=0.1, random_state=42, stratify=y_train)"
      ]
    },
    {
      "cell_type": "code",
      "execution_count": 32,
      "metadata": {
        "execution": {
          "iopub.execute_input": "2024-08-26T01:37:14.185850Z",
          "iopub.status.busy": "2024-08-26T01:37:14.184837Z",
          "iopub.status.idle": "2024-08-26T01:37:14.251676Z",
          "shell.execute_reply": "2024-08-26T01:37:14.250780Z",
          "shell.execute_reply.started": "2024-08-26T01:37:14.185816Z"
        },
        "id": "nwgZGFASBM0P",
        "trusted": true
      },
      "outputs": [],
      "source": [
        "train = pd.concat((X_train, y_train), axis=1)\n",
        "val = pd.concat((X_val, y_val), axis=1)"
      ]
    },
    {
      "cell_type": "markdown",
      "metadata": {
        "id": "ahITLZftlOjB"
      },
      "source": [
        "2. 데이터 전처리"
      ]
    },
    {
      "cell_type": "code",
      "execution_count": 33,
      "metadata": {
        "execution": {
          "iopub.execute_input": "2024-08-26T01:37:17.533900Z",
          "iopub.status.busy": "2024-08-26T01:37:17.533561Z",
          "iopub.status.idle": "2024-08-26T01:37:17.751879Z",
          "shell.execute_reply": "2024-08-26T01:37:17.751035Z",
          "shell.execute_reply.started": "2024-08-26T01:37:17.533874Z"
        },
        "id": "KW7TPX3eBM0R",
        "trusted": true
      },
      "outputs": [],
      "source": [
        "only_m_customers = train.groupby('Customer_identification_number')['Fraud_Type'].apply(lambda x: set(x) == {'m'}).reset_index()\n",
        "\n",
        "# Fraud_Type이 'm'만 있는 Customer_identification_number 필터링\n",
        "only_m_customers = only_m_customers[only_m_customers['Fraud_Type'] == True]['Customer_identification_number']\n",
        "\n",
        "# 해당 Customer_identification_number와 일치하는 행들을 train에서 제거\n",
        "train = train[~train['Customer_identification_number'].isin(only_m_customers)]"
      ]
    },
    {
      "cell_type": "code",
      "execution_count": 34,
      "metadata": {
        "colab": {
          "base_uri": "https://localhost:8080/"
        },
        "execution": {
          "iopub.execute_input": "2024-08-26T01:37:19.029034Z",
          "iopub.status.busy": "2024-08-26T01:37:19.028672Z",
          "iopub.status.idle": "2024-08-26T01:37:19.059209Z",
          "shell.execute_reply": "2024-08-26T01:37:19.058319Z",
          "shell.execute_reply.started": "2024-08-26T01:37:19.029006Z"
        },
        "id": "mGkF8mhIBM0T",
        "outputId": "49965b70-3baf-4544-af93-d9b3e6a074f4",
        "trusted": true
      },
      "outputs": [
        {
          "data": {
            "text/plain": [
              "(977, 7)"
            ]
          },
          "execution_count": 34,
          "metadata": {},
          "output_type": "execute_result"
        }
      ],
      "source": [
        "hdb = train[['Customer_identification_number', 'Customer_Birthyear', 'Customer_Gender', 'Customer_personal_identifier', 'Customer_registration_datetime', 'Account_account_number', 'Account_creation_datetime']]\n",
        "hdb = hdb.drop_duplicates()\n",
        "hdb.shape"
      ]
    },
    {
      "cell_type": "code",
      "execution_count": 35,
      "metadata": {
        "execution": {
          "iopub.execute_input": "2024-08-26T01:37:20.496644Z",
          "iopub.status.busy": "2024-08-26T01:37:20.496183Z",
          "iopub.status.idle": "2024-08-26T01:37:20.592942Z",
          "shell.execute_reply": "2024-08-26T01:37:20.591999Z",
          "shell.execute_reply.started": "2024-08-26T01:37:20.496608Z"
        },
        "id": "b1lZMV5nBM0V",
        "trusted": true
      },
      "outputs": [],
      "source": [
        "train['7_29_30'] = train['Customer_credit_rating'] + '_' + train['Account_indicator_release_limit_excess'].astype(str) +'_' + train['Account_amount_daily_limit'].astype(str)\n",
        "train['7_29_30'] = train['Customer_credit_rating'] + '_' + train['Account_indicator_release_limit_excess'].astype(str) +'_' + train['Account_amount_daily_limit'].astype(str)"
      ]
    },
    {
      "cell_type": "code",
      "execution_count": 36,
      "metadata": {
        "execution": {
          "iopub.execute_input": "2024-08-26T01:37:23.709354Z",
          "iopub.status.busy": "2024-08-26T01:37:23.708741Z",
          "iopub.status.idle": "2024-08-26T01:37:23.727262Z",
          "shell.execute_reply": "2024-08-26T01:37:23.726139Z",
          "shell.execute_reply.started": "2024-08-26T01:37:23.709323Z"
        },
        "id": "XISvMwzqBM0W",
        "trusted": true
      },
      "outputs": [],
      "source": [
        "train['40_41'] = train['Channel'] + '_' + train['Operating_System']"
      ]
    },
    {
      "cell_type": "code",
      "execution_count": 37,
      "metadata": {
        "execution": {
          "iopub.execute_input": "2024-08-26T01:37:24.794980Z",
          "iopub.status.busy": "2024-08-26T01:37:24.794348Z",
          "iopub.status.idle": "2024-08-26T01:37:26.223645Z",
          "shell.execute_reply": "2024-08-26T01:37:26.222500Z",
          "shell.execute_reply.started": "2024-08-26T01:37:24.794950Z"
        },
        "id": "MnWj4ziVBM0W",
        "trusted": true
      },
      "outputs": [],
      "source": [
        "train['35/34'] = train.apply(lambda row: row['Account_one_month_std_dev'] / row['Account_one_month_max_amount'] if row['Account_one_month_max_amount'] != 0 else 0, axis=1)\n",
        "train['37/36'] = train.apply(lambda row: row['Account_dawn_one_month_std_dev'] / row['Account_dawn_one_month_max_amount'] if row['Account_dawn_one_month_max_amount'] != 0 else 0, axis=1)\n",
        "train['36/34'] = train.apply(lambda row: row['Account_dawn_one_month_max_amount'] / row['Account_one_month_max_amount'] if row['Account_one_month_max_amount'] != 0 else 0, axis=1)"
      ]
    },
    {
      "cell_type": "code",
      "execution_count": 38,
      "metadata": {
        "execution": {
          "iopub.execute_input": "2024-08-26T01:37:26.225994Z",
          "iopub.status.busy": "2024-08-26T01:37:26.225607Z",
          "iopub.status.idle": "2024-08-26T01:37:28.518615Z",
          "shell.execute_reply": "2024-08-26T01:37:28.517790Z",
          "shell.execute_reply.started": "2024-08-26T01:37:26.225961Z"
        },
        "id": "CCACv1_8BM0X",
        "trusted": true
      },
      "outputs": [],
      "source": [
        "def convert_to_float_year(dt):\n",
        "        year = dt.year\n",
        "        start_of_year = pd.Timestamp(year=year, month=1, day=1)\n",
        "        next_year = pd.Timestamp(year=year + 1, month=1, day=1)\n",
        "        year_elapsed = (dt - start_of_year).total_seconds()\n",
        "        year_duration = (next_year - start_of_year).total_seconds()\n",
        "        fractional_year = year_elapsed / year_duration\n",
        "        return year + fractional_year\n",
        "\n",
        "train['Account_creation_datetime'] = pd.to_datetime(train['Account_creation_datetime'])\n",
        "train['Transaction_Datetime'] = pd.to_datetime(train['Transaction_Datetime'])\n",
        "train['Last_atm_transaction_datetime'] = pd.to_datetime(train['Last_atm_transaction_datetime'])\n",
        "train['Last_bank_branch_transaction_datetime'] = pd.to_datetime(train['Last_bank_branch_transaction_datetime'])\n",
        "train['Transaction_resumed_date'] = pd.to_datetime(train['Transaction_resumed_date'])\n",
        "train['Customer_registration_datetime'] = pd.to_datetime(train['Customer_registration_datetime'])\n",
        "\n",
        "train['Transaction_hour'] = train['Transaction_Datetime'].apply(lambda x: x.hour)\n",
        "\n",
        "train['거래재개일자_소수'] = train['Transaction_resumed_date'].apply(convert_to_float_year)\n",
        "train['거래일자_소수'] = train['Transaction_Datetime'].apply(convert_to_float_year)\n",
        "train['마지막ATM거래일자_소수'] = train['Last_atm_transaction_datetime'].apply(convert_to_float_year)\n",
        "train['마지막영업점거래일자_소수'] = train['Last_bank_branch_transaction_datetime'].apply(convert_to_float_year)\n",
        "\n",
        "train['거래까지걸린시간_소수'] = train['거래일자_소수'] - train['거래재개일자_소수']\n",
        "train['거래까지걸린시간_ATM_소수'] = train['거래일자_소수'] - train['마지막ATM거래일자_소수']\n",
        "train['거래까지걸린시간_영업점_소수'] = train['거래일자_소수'] - train['마지막영업점거래일자_소수']\n",
        "train['거래당시나이'] = train['거래일자_소수'] - train['Customer_Birthyear']"
      ]
    },
    {
      "cell_type": "code",
      "execution_count": 39,
      "metadata": {
        "execution": {
          "iopub.execute_input": "2024-08-26T01:37:28.520450Z",
          "iopub.status.busy": "2024-08-26T01:37:28.520155Z",
          "iopub.status.idle": "2024-08-26T01:37:28.536918Z",
          "shell.execute_reply": "2024-08-26T01:37:28.536078Z",
          "shell.execute_reply.started": "2024-08-26T01:37:28.520425Z"
        },
        "id": "HB_YGc0PBM0Y",
        "trusted": true
      },
      "outputs": [],
      "source": [
        "drop_columns = ['Customer_identification_number', 'Customer_personal_identifier', 'Account_account_number', 'Location', 'IP_Address', 'MAC_Address', 'Recipient_Account_Number', 'Customer_Gender',\n",
        "                'Account_one_month_std_dev', 'Account_dawn_one_month_std_dev', 'Account_dawn_one_month_max_amount',\n",
        "                'Customer_credit_rating', 'Account_indicator_release_limit_excess', 'Account_amount_daily_limit',\n",
        "                'Channel', 'Operating_System',\n",
        "                'Transaction_Failure_Status',\n",
        "                'Account_creation_datetime', 'Transaction_Datetime', 'Last_atm_transaction_datetime', 'Last_bank_branch_transaction_datetime', 'Transaction_resumed_date', 'Customer_registration_datetime',\n",
        "                '거래재개일자_소수', '거래일자_소수', '마지막ATM거래일자_소수', '마지막영업점거래일자_소수'\n",
        "                ]\n",
        "\n",
        "train.drop(columns=drop_columns, inplace=True)"
      ]
    },
    {
      "cell_type": "markdown",
      "metadata": {},
      "source": [
        "3. Train"
      ]
    },
    {
      "cell_type": "code",
      "execution_count": null,
      "metadata": {
        "colab": {
          "base_uri": "https://localhost:8080/"
        },
        "id": "y_aWOP7TZ_mW",
        "outputId": "b0f94767-25ea-45b4-ec34-b692e8b8ce17"
      },
      "outputs": [],
      "source": [
        "def handle_outliers(series, n_std=3):\n",
        "    mean = series.mean()\n",
        "    std = series.std()\n",
        "\n",
        "    # z-score 계산\n",
        "    z_scores = (series - mean) / std\n",
        "\n",
        "    # n_std를 넘는 z-score를 가진 값을 n_std에 해당하는 원본 값으로 대체\n",
        "    series = series.mask(z_scores > n_std, mean + n_std * std)\n",
        "    series = series.mask(z_scores < -n_std, mean - n_std * std)\n",
        "\n",
        "    return series\n",
        "\n",
        "\n",
        "train['Time_difference_seconds'] = pd.to_timedelta(train['Time_difference']).dt.total_seconds()\n",
        "\n",
        "## 이상치 처리 - 시간\n",
        "\n",
        "# 거래까지걸린시간_소수의 평균값 계산\n",
        "mean_value = train['거래까지걸린시간_소수'].mean()\n",
        "train.loc[train['Time_difference_seconds'] > 31536000, '거래까지걸린시간_소수'] = mean_value\n",
        "\n",
        "mean_value = train['Time_difference_seconds'].mean()\n",
        "train['Time_difference_seconds'] = train['Time_difference_seconds'].apply(\n",
        "    lambda x: mean_value if x > 31536000 else x\n",
        ")\n",
        "\n",
        "min_positive_value = train['Time_difference_seconds'][train['Time_difference_seconds'] >= 0].min()\n",
        "train['Time_difference_seconds'] = train['Time_difference_seconds'].apply(\n",
        "    lambda x: min_positive_value if x < 0 else x\n",
        ")\n",
        "\n",
        "## 이상치 처리 - 금액\n",
        "cost_cols = [\n",
        "    'Account_initial_balance', 'Account_balance', 'Account_remaining_amount_daily_limit_exceeded', 'Account_one_month_max_amount',\n",
        "    'Transaction_Amount'\n",
        "]\n",
        "\n",
        "for col in cost_cols:\n",
        "    train[col] = handle_outliers(train[col])\n",
        "\n",
        "# 모든 Fraud_Type 목록 생성 (m 포함)\n",
        "fraud_types = train['Fraud_Type'].unique()\n",
        "\n",
        "# 모든 합성 데이터를 저장할 DataFrame 초기화\n",
        "all_synthetic_data = pd.DataFrame()\n",
        "\n",
        "N_SAMPLE = 90\n",
        "\n",
        "# 각 Fraud_Type에 대해 합성 데이터 생성 및 저장\n",
        "for fraud_type in tqdm(fraud_types):\n",
        "    # 'm' Fraud_Type만 건너뛰기\n",
        "    if fraud_type == 'm':\n",
        "        continue\n",
        "\n",
        "    # EPOCH 설정\n",
        "    EPOCH = 100\n",
        "\n",
        "    print(f\"Processing Fraud_Type: {fraud_type}\")\n",
        "\n",
        "    # 해당 Fraud_Type에 대한 서브셋 생성\n",
        "    subset = train[train[\"Fraud_Type\"] == fraud_type]\n",
        "\n",
        "    # 모든 Fraud_Type에 대해 샘플링\n",
        "    subset = subset.sample(n=N_SAMPLE, random_state=42)\n",
        "\n",
        "    # Time_difference 열 제외 (초 단위로 변환된 컬럼만 사용)\n",
        "    subset = subset.drop('Time_difference', axis=1)\n",
        "\n",
        "    # 메타데이터 생성 및 모델 학습\n",
        "    metadata = SingleTableMetadata()\n",
        "\n",
        "    metadata.detect_from_dataframe(subset)\n",
        "    metadata.set_primary_key(None)\n",
        "\n",
        "    # 데이터 타입 설정\n",
        "    column_sdtypes = {\n",
        "        'Time_difference_seconds': 'numerical',\n",
        "        'Transaction_num_connection_failure': 'numerical',\n",
        "        'Number_of_transaction_with_the_account': 'numerical',\n",
        "        'Transaction_history_with_the_account': 'numerical',\n",
        "        '37/36': 'numerical',\n",
        "        '36/34': 'numerical',\n",
        "        'Account_balance': 'numerical'\n",
        "    }\n",
        "\n",
        "    # 각 컬럼에 대해 데이터 타입 설정\n",
        "    for column, sdtype in column_sdtypes.items():\n",
        "        metadata.update_column(\n",
        "            column_name=column,\n",
        "            sdtype=sdtype\n",
        "        )\n",
        "\n",
        "        synthesizer = CTGANSynthesizer(\n",
        "            metadata,\n",
        "            epochs=100\n",
        "\n",
        ")\n",
        "    synthesizer.fit(subset)\n",
        "\n",
        "    synthetic_subset = synthesizer.sample(num_rows=1000)\n",
        "\n",
        "\n",
        "\n",
        "    for col in cost_cols:\n",
        "        synthetic_subset[col] = handle_outliers(synthetic_subset[col])\n",
        "\n",
        "    # Time_difference_seconds를 다시 timedelta로 변환\n",
        "    synthetic_subset['Time_difference'] = pd.to_timedelta(synthetic_subset['Time_difference_seconds'], unit='s')\n",
        "\n",
        "    # Time_difference_seconds 컬럼 제거\n",
        "    synthetic_subset = synthetic_subset.drop('Time_difference_seconds', axis=1)\n",
        "\n",
        "    # 생성된 데이터를 all_synthetic_data에 추가\n",
        "    all_synthetic_data = pd.concat([all_synthetic_data, synthetic_subset], ignore_index=True)\n",
        "\n",
        "    # 최종 결과 확인\n",
        "    print(\"\\nCurrent All Synthetic Data Shape:\", all_synthetic_data.shape)\n",
        "\n",
        "# 최종 결과 확인\n",
        "print(\"\\nFinal All Synthetic Data Shape:\", all_synthetic_data.shape)"
      ]
    },
    {
      "cell_type": "code",
      "execution_count": null,
      "metadata": {
        "colab": {
          "base_uri": "https://localhost:8080/",
          "height": 491
        },
        "id": "YSTf6WEACf_D",
        "outputId": "f0cfea2d-38e6-4536-8d20-b615f8fac495"
      },
      "outputs": [],
      "source": [
        "all_synthetic_data[\"Fraud_Type\"].value_counts()"
      ]
    },
    {
      "cell_type": "markdown",
      "metadata": {
        "id": "WVnNzKK7lWqK"
      },
      "source": [
        "4. 데이터 후처리"
      ]
    },
    {
      "cell_type": "code",
      "execution_count": 43,
      "metadata": {
        "execution": {
          "iopub.execute_input": "2024-08-26T01:38:50.119963Z",
          "iopub.status.busy": "2024-08-26T01:38:50.119279Z",
          "iopub.status.idle": "2024-08-26T01:38:50.130924Z",
          "shell.execute_reply": "2024-08-26T01:38:50.129884Z",
          "shell.execute_reply.started": "2024-08-26T01:38:50.119928Z"
        },
        "id": "RWiY_OmCBM0h",
        "trusted": true
      },
      "outputs": [],
      "source": [
        "all_synthetic_data['Account_one_month_std_dev'] = (all_synthetic_data['35/34']*all_synthetic_data['Account_one_month_max_amount']).astype(int)\n",
        "all_synthetic_data['Account_dawn_one_month_max_amount'] = (all_synthetic_data['36/34']*all_synthetic_data['Account_one_month_max_amount']).astype(int)\n",
        "all_synthetic_data['Account_dawn_one_month_std_dev'] = (all_synthetic_data['37/36']*all_synthetic_data['Account_dawn_one_month_max_amount']).astype(int)\n",
        "\n",
        "all_synthetic_data.drop(columns=['35/34', '36/34', '37/36'], inplace=True)"
      ]
    },
    {
      "cell_type": "code",
      "execution_count": 44,
      "metadata": {
        "execution": {
          "iopub.execute_input": "2024-08-26T01:38:54.775692Z",
          "iopub.status.busy": "2024-08-26T01:38:54.774843Z",
          "iopub.status.idle": "2024-08-26T01:38:54.792686Z",
          "shell.execute_reply": "2024-08-26T01:38:54.791811Z",
          "shell.execute_reply.started": "2024-08-26T01:38:54.775661Z"
        },
        "id": "LB1K12GHBM0i",
        "trusted": true
      },
      "outputs": [],
      "source": [
        "all_synthetic_data[['Channel', 'Operating_System']] = all_synthetic_data['40_41'].str.split('_', expand=True)\n",
        "\n",
        "all_synthetic_data[['Customer_credit_rating', 'Account_indicator_release_limit_excess', 'Account_amount_daily_limit']] = all_synthetic_data['7_29_30'].str.split('_', expand=True)\n",
        "all_synthetic_data['Account_indicator_release_limit_excess'] = all_synthetic_data['Account_indicator_release_limit_excess'].astype(int)\n",
        "all_synthetic_data['Account_amount_daily_limit'] = all_synthetic_data['Account_amount_daily_limit'].astype(int)\n",
        "\n",
        "all_synthetic_data['Transaction_Failure_Status'] = all_synthetic_data['Error_Code'].apply(lambda x: 0 if x == 'a' else 1)\n",
        "\n",
        "all_synthetic_data.drop(columns=['7_29_30', '40_41'], inplace=True)"
      ]
    },
    {
      "cell_type": "code",
      "execution_count": 45,
      "metadata": {
        "execution": {
          "iopub.execute_input": "2024-08-26T01:39:55.750926Z",
          "iopub.status.busy": "2024-08-26T01:39:55.750545Z",
          "iopub.status.idle": "2024-08-26T01:39:55.843056Z",
          "shell.execute_reply": "2024-08-26T01:39:55.842029Z",
          "shell.execute_reply.started": "2024-08-26T01:39:55.750898Z"
        },
        "id": "msdk7PInBM0k",
        "trusted": true
      },
      "outputs": [],
      "source": [
        "import math\n",
        "\n",
        "def convert_from_float_year(float_year):\n",
        "    year = int(math.floor(float_year))\n",
        "    fractional_part = float_year - year\n",
        "    start_of_year = pd.Timestamp(year=year, month=1, day=1)\n",
        "    next_year = pd.Timestamp(year=year + 1, month=1, day=1)\n",
        "    year_duration = (next_year - start_of_year).total_seconds()\n",
        "    elapsed_seconds = round(fractional_part * year_duration)  # 초를 반올림\n",
        "    result_date = start_of_year + pd.to_timedelta(elapsed_seconds, unit='s')\n",
        "    return result_date\n",
        "\n",
        "all_synthetic_data['거래일자_소수'] = all_synthetic_data['Customer_Birthyear'] + all_synthetic_data['거래당시나이']\n",
        "all_synthetic_data['거래재개일자_소수'] = all_synthetic_data['거래일자_소수'] - all_synthetic_data['거래까지걸린시간_소수']\n",
        "all_synthetic_data['마지막ATM거래일자_소수'] = all_synthetic_data['거래일자_소수'] - all_synthetic_data['거래까지걸린시간_ATM_소수']\n",
        "all_synthetic_data['마지막영업점거래일자_소수'] = all_synthetic_data['거래일자_소수'] - all_synthetic_data['거래까지걸린시간_영업점_소수']\n",
        "\n",
        "all_synthetic_data['Transaction_Datetime'] = all_synthetic_data['거래일자_소수'].apply(convert_from_float_year)\n",
        "all_synthetic_data['Transaction_resumed_date'] = all_synthetic_data['거래재개일자_소수'].apply(convert_from_float_year)\n",
        "all_synthetic_data['Last_atm_transaction_datetime'] = all_synthetic_data['마지막ATM거래일자_소수'].apply(convert_from_float_year)\n",
        "all_synthetic_data['Last_bank_branch_transaction_datetime'] = all_synthetic_data['마지막영업점거래일자_소수'].apply(convert_from_float_year)\n",
        "\n",
        "all_synthetic_data.drop(columns=['거래일자_소수', '거래재개일자_소수', '마지막ATM거래일자_소수', '마지막영업점거래일자_소수',\n",
        "                                '거래까지걸린시간_소수', '거래까지걸린시간_ATM_소수', '거래까지걸린시간_영업점_소수', '거래당시나이',\n",
        "                                ], inplace=True)"
      ]
    },
    {
      "cell_type": "code",
      "execution_count": 46,
      "metadata": {
        "execution": {
          "iopub.execute_input": "2024-08-26T01:41:38.777413Z",
          "iopub.status.busy": "2024-08-26T01:41:38.777014Z",
          "iopub.status.idle": "2024-08-26T01:41:38.788625Z",
          "shell.execute_reply": "2024-08-26T01:41:38.787691Z",
          "shell.execute_reply.started": "2024-08-26T01:41:38.777383Z"
        },
        "id": "9BkHtLmlBM0l",
        "trusted": true
      },
      "outputs": [],
      "source": [
        "all_synthetic_data['Customer_personal_identifier'] = '홍길동'\n",
        "all_synthetic_data['Customer_identification_number'] = 'aaaaaa-aaaaaaa'\n",
        "all_synthetic_data['Account_account_number'] = 'aaaaaaaaaa'\n",
        "all_synthetic_data['Customer_Gender'] = 'male'\n",
        "all_synthetic_data['IP_Address'] = '38.117.123.196'\n",
        "all_synthetic_data['MAC_Address'] = '5e:76:37:86:60:c3'\n",
        "all_synthetic_data['Location'] = '서울특별시 강서구 가양동 37.568238 126.845059'\n",
        "all_synthetic_data['Recipient_Account_Number'] = 'aaaaaaaaaa'\n",
        "all_synthetic_data['Customer_registration_datetime'] = '1999-12-31 23:59:59'\n",
        "all_synthetic_data['Account_creation_datetime'] = '1999-12-31 23:59:59'"
      ]
    },
    {
      "cell_type": "code",
      "execution_count": null,
      "metadata": {
        "colab": {
          "base_uri": "https://localhost:8080/",
          "height": 602
        },
        "execution": {
          "iopub.execute_input": "2024-08-25T10:40:21.207818Z",
          "iopub.status.busy": "2024-08-25T10:40:21.207498Z",
          "iopub.status.idle": "2024-08-25T10:40:21.239591Z",
          "shell.execute_reply": "2024-08-25T10:40:21.238507Z",
          "shell.execute_reply.started": "2024-08-25T10:40:21.207788Z"
        },
        "id": "ZT3Mf_WBBM0m",
        "outputId": "e16bf551-da58-4da2-e695-35b2db617799",
        "trusted": true
      },
      "outputs": [],
      "source": [
        "all_synthetic_data.head()"
      ]
    },
    {
      "cell_type": "code",
      "execution_count": null,
      "metadata": {
        "colab": {
          "base_uri": "https://localhost:8080/"
        },
        "execution": {
          "iopub.execute_input": "2024-08-26T01:41:49.248374Z",
          "iopub.status.busy": "2024-08-26T01:41:49.247744Z",
          "iopub.status.idle": "2024-08-26T01:41:49.264879Z",
          "shell.execute_reply": "2024-08-26T01:41:49.263838Z",
          "shell.execute_reply.started": "2024-08-26T01:41:49.248336Z"
        },
        "id": "XmOHtVcTBM0o",
        "outputId": "b30075ab-7530-4dd9-96d1-6688470ebede",
        "trusted": true
      },
      "outputs": [],
      "source": [
        "# all_synthetic_data의 열 순서를 test_all의 열 순서로 변경\n",
        "hour = all_synthetic_data['Transaction_hour']\n",
        "all_synthetic_data = all_synthetic_data.reindex(columns=train_all.columns)\n",
        "all_synthetic_data.drop(columns='ID', inplace=True)\n",
        "all_synthetic_data = pd.concat((hour, all_synthetic_data), axis=1)\n",
        "print(all_synthetic_data.shape)"
      ]
    },
    {
      "cell_type": "code",
      "execution_count": null,
      "metadata": {
        "colab": {
          "base_uri": "https://localhost:8080/",
          "height": 443
        },
        "id": "ZM0ml5GnEpm8",
        "outputId": "7cf2a4aa-2247-41c1-88a4-4d3cec882127"
      },
      "outputs": [],
      "source": [
        "all_synthetic_data"
      ]
    },
    {
      "cell_type": "code",
      "execution_count": 51,
      "metadata": {
        "execution": {
          "iopub.execute_input": "2024-08-26T01:41:49.855112Z",
          "iopub.status.busy": "2024-08-26T01:41:49.854067Z",
          "iopub.status.idle": "2024-08-26T01:41:49.898155Z",
          "shell.execute_reply": "2024-08-26T01:41:49.897357Z",
          "shell.execute_reply.started": "2024-08-26T01:41:49.855075Z"
        },
        "id": "PhvmjeCSBM0q",
        "trusted": true
      },
      "outputs": [],
      "source": [
        "all_synthetic_data.to_csv('../data/only_ctgan.csv', encoding='UTF-8-sig', index=False)"
      ]
    }
  ],
  "metadata": {
    "accelerator": "GPU",
    "colab": {
      "gpuType": "T4",
      "provenance": []
    },
    "kaggle": {
      "accelerator": "gpu",
      "dataSources": [
        {
          "datasetId": 5554503,
          "sourceId": 9188637,
          "sourceType": "datasetVersion"
        }
      ],
      "dockerImageVersionId": 30747,
      "isGpuEnabled": true,
      "isInternetEnabled": true,
      "language": "python",
      "sourceType": "notebook"
    },
    "kernelspec": {
      "display_name": "Python 3",
      "name": "python3"
    },
    "language_info": {
      "codemirror_mode": {
        "name": "ipython",
        "version": 3
      },
      "file_extension": ".py",
      "mimetype": "text/x-python",
      "name": "python",
      "nbconvert_exporter": "python",
      "pygments_lexer": "ipython3",
      "version": "3.10.13"
    }
  },
  "nbformat": 4,
  "nbformat_minor": 0
}
