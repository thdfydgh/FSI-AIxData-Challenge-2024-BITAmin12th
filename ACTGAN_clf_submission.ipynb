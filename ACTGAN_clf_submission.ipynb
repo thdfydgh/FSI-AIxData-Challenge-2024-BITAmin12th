{
  "cells": [
    {
      "cell_type": "markdown",
      "metadata": {},
      "source": [
        "0. 필요한 모듈 로드"
      ]
    },
    {
      "cell_type": "code",
      "execution_count": 4,
      "metadata": {
        "execution": {
          "iopub.execute_input": "2024-08-26T01:37:07.064522Z",
          "iopub.status.busy": "2024-08-26T01:37:07.063483Z",
          "iopub.status.idle": "2024-08-26T01:37:07.070147Z",
          "shell.execute_reply": "2024-08-26T01:37:07.069168Z",
          "shell.execute_reply.started": "2024-08-26T01:37:07.064319Z"
        },
        "id": "WhUG81jhkcl4",
        "trusted": true
      },
      "outputs": [],
      "source": [
        "# 제출 파일 생성 관련\n",
        "import os\n",
        "import zipfile\n",
        "\n",
        "# 데이터 처리 및 분석\n",
        "import torch\n",
        "import pandas as pd\n",
        "import numpy as np\n",
        "from scipy import stats\n",
        "from tqdm import tqdm\n",
        "from gretel_synthetics.actgan import ACTGAN\n",
        "\n",
        "# To ignore all warnings\n",
        "import warnings\n",
        "warnings.filterwarnings('ignore')"
      ]
    },
    {
      "cell_type": "markdown",
      "metadata": {
        "id": "ausvH6FTkcl7"
      },
      "source": [
        "1. 데이터 로드 / train, val 나누기"
      ]
    },
    {
      "cell_type": "code",
      "execution_count": 5,
      "metadata": {
        "execution": {
          "iopub.execute_input": "2024-08-26T01:37:08.843051Z",
          "iopub.status.busy": "2024-08-26T01:37:08.842063Z",
          "iopub.status.idle": "2024-08-26T01:37:11.542248Z",
          "shell.execute_reply": "2024-08-26T01:37:11.541451Z",
          "shell.execute_reply.started": "2024-08-26T01:37:08.843015Z"
        },
        "id": "VRPscnrLkcl_",
        "trusted": true
      },
      "outputs": [],
      "source": [
        "train_all = pd.read_csv(\"/data/train.csv\")"
      ]
    },
    {
      "cell_type": "code",
      "execution_count": 6,
      "metadata": {
        "execution": {
          "iopub.execute_input": "2024-08-26T01:37:11.565718Z",
          "iopub.status.busy": "2024-08-26T01:37:11.565432Z",
          "iopub.status.idle": "2024-08-26T01:37:11.614814Z",
          "shell.execute_reply": "2024-08-26T01:37:11.613992Z",
          "shell.execute_reply.started": "2024-08-26T01:37:11.565695Z"
        },
        "id": "50x5u4vgkcmB",
        "trusted": true
      },
      "outputs": [],
      "source": [
        "train = train_all.drop(columns=\"ID\")"
      ]
    },
    {
      "cell_type": "code",
      "execution_count": 7,
      "metadata": {
        "execution": {
          "iopub.execute_input": "2024-08-26T01:37:12.964464Z",
          "iopub.status.busy": "2024-08-26T01:37:12.963759Z",
          "iopub.status.idle": "2024-08-26T01:37:13.335423Z",
          "shell.execute_reply": "2024-08-26T01:37:13.334584Z",
          "shell.execute_reply.started": "2024-08-26T01:37:12.964430Z"
        },
        "id": "-CC_9odKkcmD",
        "trusted": true
      },
      "outputs": [],
      "source": [
        "from sklearn.model_selection import train_test_split\n",
        "\n",
        "X_train, y_train = train.drop(columns=\"Fraud_Type\"), train[\"Fraud_Type\"]\n",
        "\n",
        "X_train, X_val, y_train, y_val = train_test_split(X_train, y_train, test_size=0.1, random_state=42, stratify=y_train)"
      ]
    },
    {
      "cell_type": "code",
      "execution_count": 8,
      "metadata": {
        "execution": {
          "iopub.execute_input": "2024-08-26T01:37:14.185850Z",
          "iopub.status.busy": "2024-08-26T01:37:14.184837Z",
          "iopub.status.idle": "2024-08-26T01:37:14.251676Z",
          "shell.execute_reply": "2024-08-26T01:37:14.250780Z",
          "shell.execute_reply.started": "2024-08-26T01:37:14.185816Z"
        },
        "id": "fZfpxa73kcmF",
        "trusted": true
      },
      "outputs": [],
      "source": [
        "train = pd.concat((X_train, y_train), axis=1)\n",
        "val = pd.concat((X_val, y_val), axis=1)"
      ]
    },
    {
      "cell_type": "markdown",
      "metadata": {},
      "source": [
        "2. 데이터 전처리"
      ]
    },
    {
      "cell_type": "code",
      "execution_count": 9,
      "metadata": {
        "execution": {
          "iopub.execute_input": "2024-08-26T01:37:17.533900Z",
          "iopub.status.busy": "2024-08-26T01:37:17.533561Z",
          "iopub.status.idle": "2024-08-26T01:37:17.751879Z",
          "shell.execute_reply": "2024-08-26T01:37:17.751035Z",
          "shell.execute_reply.started": "2024-08-26T01:37:17.533874Z"
        },
        "id": "kXsSmfLokcmG",
        "trusted": true
      },
      "outputs": [],
      "source": [
        "only_m_customers = train.groupby('Customer_identification_number')['Fraud_Type'].apply(lambda x: set(x) == {'m'}).reset_index()\n",
        "\n",
        "# Fraud_Type이 'm'만 있는 Customer_identification_number 필터링\n",
        "only_m_customers = only_m_customers[only_m_customers['Fraud_Type'] == True]['Customer_identification_number']\n",
        "\n",
        "# 해당 Customer_identification_number와 일치하는 행들을 train에서 제거\n",
        "train = train[~train['Customer_identification_number'].isin(only_m_customers)]"
      ]
    },
    {
      "cell_type": "code",
      "execution_count": 10,
      "metadata": {
        "execution": {
          "iopub.execute_input": "2024-08-26T01:37:19.029034Z",
          "iopub.status.busy": "2024-08-26T01:37:19.028672Z",
          "iopub.status.idle": "2024-08-26T01:37:19.059209Z",
          "shell.execute_reply": "2024-08-26T01:37:19.058319Z",
          "shell.execute_reply.started": "2024-08-26T01:37:19.029006Z"
        },
        "id": "q5b9P9nUkcmK",
        "trusted": true
      },
      "outputs": [],
      "source": [
        "hdb = train[['Customer_identification_number', 'Customer_Birthyear', 'Customer_Gender', 'Customer_personal_identifier', 'Customer_registration_datetime', 'Account_account_number', 'Account_creation_datetime']]\n",
        "\n",
        "hdb = hdb.drop_duplicates()"
      ]
    },
    {
      "cell_type": "code",
      "execution_count": 11,
      "metadata": {
        "execution": {
          "iopub.execute_input": "2024-08-26T01:37:20.496644Z",
          "iopub.status.busy": "2024-08-26T01:37:20.496183Z",
          "iopub.status.idle": "2024-08-26T01:37:20.592942Z",
          "shell.execute_reply": "2024-08-26T01:37:20.591999Z",
          "shell.execute_reply.started": "2024-08-26T01:37:20.496608Z"
        },
        "id": "wofsIXr7kcmL",
        "trusted": true
      },
      "outputs": [],
      "source": [
        "train['7_29_30'] = train['Customer_credit_rating'] + '_' + train['Account_indicator_release_limit_excess'].astype(str) +'_' + train['Account_amount_daily_limit'].astype(str)\n",
        "train['7_29_30'] = train['Customer_credit_rating'] + '_' + train['Account_indicator_release_limit_excess'].astype(str) +'_' + train['Account_amount_daily_limit'].astype(str)"
      ]
    },
    {
      "cell_type": "code",
      "execution_count": 12,
      "metadata": {
        "execution": {
          "iopub.execute_input": "2024-08-26T01:37:23.709354Z",
          "iopub.status.busy": "2024-08-26T01:37:23.708741Z",
          "iopub.status.idle": "2024-08-26T01:37:23.727262Z",
          "shell.execute_reply": "2024-08-26T01:37:23.726139Z",
          "shell.execute_reply.started": "2024-08-26T01:37:23.709323Z"
        },
        "id": "LH2M4MYMkcmM",
        "trusted": true
      },
      "outputs": [],
      "source": [
        "train['40_41'] = train['Channel'] + '_' + train['Operating_System']"
      ]
    },
    {
      "cell_type": "code",
      "execution_count": 13,
      "metadata": {
        "execution": {
          "iopub.execute_input": "2024-08-26T01:37:24.794980Z",
          "iopub.status.busy": "2024-08-26T01:37:24.794348Z",
          "iopub.status.idle": "2024-08-26T01:37:26.223645Z",
          "shell.execute_reply": "2024-08-26T01:37:26.222500Z",
          "shell.execute_reply.started": "2024-08-26T01:37:24.794950Z"
        },
        "id": "umlBUBP2kcmN",
        "trusted": true
      },
      "outputs": [],
      "source": [
        "train['35/34'] = train.apply(lambda row: row['Account_one_month_std_dev'] / row['Account_one_month_max_amount'] if row['Account_one_month_max_amount'] != 0 else 0, axis=1)\n",
        "train['37/36'] = train.apply(lambda row: row['Account_dawn_one_month_std_dev'] / row['Account_dawn_one_month_max_amount'] if row['Account_dawn_one_month_max_amount'] != 0 else 0, axis=1)\n",
        "train['36/34'] = train.apply(lambda row: row['Account_dawn_one_month_max_amount'] / row['Account_one_month_max_amount'] if row['Account_one_month_max_amount'] != 0 else 0, axis=1)"
      ]
    },
    {
      "cell_type": "code",
      "execution_count": 14,
      "metadata": {
        "execution": {
          "iopub.execute_input": "2024-08-26T01:37:26.225994Z",
          "iopub.status.busy": "2024-08-26T01:37:26.225607Z",
          "iopub.status.idle": "2024-08-26T01:37:28.518615Z",
          "shell.execute_reply": "2024-08-26T01:37:28.517790Z",
          "shell.execute_reply.started": "2024-08-26T01:37:26.225961Z"
        },
        "id": "nP4pJfeMkcmO",
        "trusted": true
      },
      "outputs": [],
      "source": [
        "def convert_to_float_year(dt):\n",
        "        year = dt.year\n",
        "        start_of_year = pd.Timestamp(year=year, month=1, day=1)\n",
        "        next_year = pd.Timestamp(year=year + 1, month=1, day=1)\n",
        "        year_elapsed = (dt - start_of_year).total_seconds()\n",
        "        year_duration = (next_year - start_of_year).total_seconds()\n",
        "        fractional_year = year_elapsed / year_duration\n",
        "        return year + fractional_year\n",
        "\n",
        "train['Account_creation_datetime'] = pd.to_datetime(train['Account_creation_datetime'])\n",
        "train['Transaction_Datetime'] = pd.to_datetime(train['Transaction_Datetime'])\n",
        "train['Last_atm_transaction_datetime'] = pd.to_datetime(train['Last_atm_transaction_datetime'])\n",
        "train['Last_bank_branch_transaction_datetime'] = pd.to_datetime(train['Last_bank_branch_transaction_datetime'])\n",
        "train['Transaction_resumed_date'] = pd.to_datetime(train['Transaction_resumed_date'])\n",
        "train['Customer_registration_datetime'] = pd.to_datetime(train['Customer_registration_datetime'])\n",
        "\n",
        "train['Transaction_hour'] = train['Transaction_Datetime'].apply(lambda x: x.hour)\n",
        "\n",
        "train['거래재개일자_소수'] = train['Transaction_resumed_date'].apply(convert_to_float_year)\n",
        "train['거래일자_소수'] = train['Transaction_Datetime'].apply(convert_to_float_year)\n",
        "train['마지막ATM거래일자_소수'] = train['Last_atm_transaction_datetime'].apply(convert_to_float_year)\n",
        "train['마지막영업점거래일자_소수'] = train['Last_bank_branch_transaction_datetime'].apply(convert_to_float_year)\n",
        "\n",
        "train['거래까지걸린시간_소수'] = train['거래일자_소수'] - train['거래재개일자_소수']\n",
        "train['거래까지걸린시간_ATM_소수'] = train['거래일자_소수'] - train['마지막ATM거래일자_소수']\n",
        "train['거래까지걸린시간_영업점_소수'] = train['거래일자_소수'] - train['마지막영업점거래일자_소수']\n",
        "train['거래당시나이'] = train['거래일자_소수'] - train['Customer_Birthyear']"
      ]
    },
    {
      "cell_type": "code",
      "execution_count": 15,
      "metadata": {
        "execution": {
          "iopub.execute_input": "2024-08-26T01:37:28.520450Z",
          "iopub.status.busy": "2024-08-26T01:37:28.520155Z",
          "iopub.status.idle": "2024-08-26T01:37:28.536918Z",
          "shell.execute_reply": "2024-08-26T01:37:28.536078Z",
          "shell.execute_reply.started": "2024-08-26T01:37:28.520425Z"
        },
        "id": "9R6uRmBwkcmP",
        "trusted": true
      },
      "outputs": [],
      "source": [
        "drop_columns = ['Customer_identification_number', 'Customer_personal_identifier', 'Account_account_number', 'Location', 'IP_Address', 'MAC_Address', 'Recipient_Account_Number', 'Customer_Gender',\n",
        "                'Account_one_month_std_dev', 'Account_dawn_one_month_std_dev', 'Account_dawn_one_month_max_amount',\n",
        "                'Customer_credit_rating', 'Account_indicator_release_limit_excess', 'Account_amount_daily_limit',\n",
        "                'Channel', 'Operating_System',\n",
        "                'Transaction_Failure_Status',\n",
        "                'Account_creation_datetime', 'Transaction_Datetime', 'Last_atm_transaction_datetime', 'Last_bank_branch_transaction_datetime', 'Transaction_resumed_date', 'Customer_registration_datetime',\n",
        "                '거래재개일자_소수', '거래일자_소수', '마지막ATM거래일자_소수', '마지막영업점거래일자_소수'\n",
        "                ]\n",
        "\n",
        "train.drop(columns=drop_columns, inplace=True)"
      ]
    },
    {
      "cell_type": "markdown",
      "metadata": {},
      "source": [
        "3. Train"
      ]
    },
    {
      "cell_type": "code",
      "execution_count": 17,
      "metadata": {
        "colab": {
          "base_uri": "https://localhost:8080/"
        },
        "execution": {
          "iopub.execute_input": "2024-08-26T01:46:25.115236Z",
          "iopub.status.busy": "2024-08-26T01:46:25.114372Z",
          "iopub.status.idle": "2024-08-26T01:46:34.537708Z",
          "shell.execute_reply": "2024-08-26T01:46:34.536689Z",
          "shell.execute_reply.started": "2024-08-26T01:46:25.115204Z"
        },
        "id": "oTopYHyBkcmU",
        "outputId": "33a5e8d0-9145-4d95-9327-dc88ed8cfc1d",
        "trusted": true
      },
      "outputs": [
        {
          "name": "stderr",
          "output_type": "stream",
          "text": [
            "\r  0%|          | 0/13 [00:00<?, ?it/s]"
          ]
        },
        {
          "name": "stdout",
          "output_type": "stream",
          "text": [
            "Processing Fraud_Type: h\n"
          ]
        },
        {
          "name": "stderr",
          "output_type": "stream",
          "text": [
            "\r 15%|█▌        | 2/13 [00:08<00:44,  4.08s/it]"
          ]
        },
        {
          "name": "stdout",
          "output_type": "stream",
          "text": [
            "\n",
            "Current All Synthetic Data Shape: (500, 50)\n",
            "Processing Fraud_Type: d\n"
          ]
        },
        {
          "name": "stderr",
          "output_type": "stream",
          "text": [
            "\r 23%|██▎       | 3/13 [00:16<00:59,  5.98s/it]"
          ]
        },
        {
          "name": "stdout",
          "output_type": "stream",
          "text": [
            "\n",
            "Current All Synthetic Data Shape: (1000, 50)\n",
            "Processing Fraud_Type: f\n"
          ]
        },
        {
          "name": "stderr",
          "output_type": "stream",
          "text": [
            "\r 31%|███       | 4/13 [00:25<01:03,  7.02s/it]"
          ]
        },
        {
          "name": "stdout",
          "output_type": "stream",
          "text": [
            "\n",
            "Current All Synthetic Data Shape: (1500, 50)\n",
            "Processing Fraud_Type: j\n"
          ]
        },
        {
          "name": "stderr",
          "output_type": "stream",
          "text": [
            "\r 38%|███▊      | 5/13 [00:34<01:01,  7.67s/it]"
          ]
        },
        {
          "name": "stdout",
          "output_type": "stream",
          "text": [
            "\n",
            "Current All Synthetic Data Shape: (2000, 50)\n",
            "Processing Fraud_Type: i\n"
          ]
        },
        {
          "name": "stderr",
          "output_type": "stream",
          "text": [
            "\r 46%|████▌     | 6/13 [00:46<01:04,  9.17s/it]"
          ]
        },
        {
          "name": "stdout",
          "output_type": "stream",
          "text": [
            "\n",
            "Current All Synthetic Data Shape: (2500, 50)\n",
            "Processing Fraud_Type: b\n"
          ]
        },
        {
          "name": "stderr",
          "output_type": "stream",
          "text": [
            "\r 54%|█████▍    | 7/13 [00:55<00:54,  9.14s/it]"
          ]
        },
        {
          "name": "stdout",
          "output_type": "stream",
          "text": [
            "\n",
            "Current All Synthetic Data Shape: (3000, 50)\n",
            "Processing Fraud_Type: g\n"
          ]
        },
        {
          "name": "stderr",
          "output_type": "stream",
          "text": [
            "\r 62%|██████▏   | 8/13 [01:03<00:44,  8.85s/it]"
          ]
        },
        {
          "name": "stdout",
          "output_type": "stream",
          "text": [
            "\n",
            "Current All Synthetic Data Shape: (3500, 50)\n",
            "Processing Fraud_Type: l\n"
          ]
        },
        {
          "name": "stderr",
          "output_type": "stream",
          "text": [
            "\r 69%|██████▉   | 9/13 [01:13<00:35,  8.93s/it]"
          ]
        },
        {
          "name": "stdout",
          "output_type": "stream",
          "text": [
            "\n",
            "Current All Synthetic Data Shape: (4000, 50)\n",
            "Processing Fraud_Type: k\n"
          ]
        },
        {
          "name": "stderr",
          "output_type": "stream",
          "text": [
            "\r 77%|███████▋  | 10/13 [01:22<00:26,  8.99s/it]"
          ]
        },
        {
          "name": "stdout",
          "output_type": "stream",
          "text": [
            "\n",
            "Current All Synthetic Data Shape: (4500, 50)\n",
            "Processing Fraud_Type: c\n"
          ]
        },
        {
          "name": "stderr",
          "output_type": "stream",
          "text": [
            "\r 85%|████████▍ | 11/13 [01:29<00:17,  8.57s/it]"
          ]
        },
        {
          "name": "stdout",
          "output_type": "stream",
          "text": [
            "\n",
            "Current All Synthetic Data Shape: (5000, 50)\n",
            "Processing Fraud_Type: a\n"
          ]
        },
        {
          "name": "stderr",
          "output_type": "stream",
          "text": [
            "\r 92%|█████████▏| 12/13 [01:38<00:08,  8.71s/it]"
          ]
        },
        {
          "name": "stdout",
          "output_type": "stream",
          "text": [
            "\n",
            "Current All Synthetic Data Shape: (5500, 50)\n",
            "Processing Fraud_Type: e\n"
          ]
        },
        {
          "name": "stderr",
          "output_type": "stream",
          "text": [
            "100%|██████████| 13/13 [01:47<00:00,  8.25s/it]"
          ]
        },
        {
          "name": "stdout",
          "output_type": "stream",
          "text": [
            "\n",
            "Current All Synthetic Data Shape: (6000, 50)\n",
            "\n",
            "Final All Synthetic Data Shape: (6000, 50)\n"
          ]
        },
        {
          "name": "stderr",
          "output_type": "stream",
          "text": [
            "\n"
          ]
        }
      ],
      "source": [
        "def handle_outliers(series, n_std=3):\n",
        "    mean = series.mean()\n",
        "    std = series.std()\n",
        "\n",
        "    # z-score 계산\n",
        "    z_scores = (series - mean) / std\n",
        "\n",
        "    # n_std를 넘는 z-score를 가진 값을 n_std에 해당하는 원본 값으로 대체\n",
        "    series = series.mask(z_scores > n_std, mean + n_std * std)\n",
        "    series = series.mask(z_scores < -n_std, mean - n_std * std)\n",
        "\n",
        "    return series\n",
        "\n",
        "\n",
        "train['Time_difference_seconds'] = pd.to_timedelta(train['Time_difference']).dt.total_seconds()\n",
        "\n",
        "\n",
        "# 거래까지걸린시간_소수의 평균값 계산\n",
        "mean_value = train['거래까지걸린시간_소수'].mean()\n",
        "train.loc[train['Time_difference_seconds'] > 31536000, '거래까지걸린시간_소수'] = mean_value\n",
        "\n",
        "mean_value = train['Time_difference_seconds'].mean()\n",
        "train['Time_difference_seconds'] = train['Time_difference_seconds'].apply(\n",
        "    lambda x: mean_value if x > 31536000 else x\n",
        ")\n",
        "\n",
        "min_positive_value = train['Time_difference_seconds'][train['Time_difference_seconds'] >= 0].min()\n",
        "train['Time_difference_seconds'] = train['Time_difference_seconds'].apply(\n",
        "    lambda x: min_positive_value if x < 0 else x\n",
        ")\n",
        "\n",
        "\n",
        "\n",
        "category_columns = [\n",
        "    'Customer_flag_change_of_authentication_1',\n",
        "    'Customer_flag_change_of_authentication_2', 'Customer_flag_change_of_authentication_3',\n",
        "    'Customer_flag_change_of_authentication_4', 'Customer_rooting_jailbreak_indicator',\n",
        "    'Customer_mobile_roaming_indicator', 'Customer_VPN_Indicator',\n",
        "    'Customer_loan_type', 'Customer_flag_terminal_malicious_behavior_1',\n",
        "    'Customer_flag_terminal_malicious_behavior_2', 'Customer_flag_terminal_malicious_behavior_3',\n",
        "    'Customer_flag_terminal_malicious_behavior_4', 'Customer_flag_terminal_malicious_behavior_5',\n",
        "    'Customer_flag_terminal_malicious_behavior_6', 'Customer_inquery_atm_limit',\n",
        "    'Customer_increase_atm_limit', 'Account_indicator_Openbanking',\n",
        "    'Account_release_suspention', 'Error_Code', 'Type_General_Automatic',\n",
        "    'Access_Medium',\n",
        "    'Transaction_num_connection_failure',\n",
        "    'Another_Person_Account', 'Unused_terminal_status',\n",
        "    'Flag_deposit_more_than_tenMillion', 'Unused_account_status',\n",
        "    'Recipient_account_suspend_status', 'Number_of_transaction_with_the_account',\n",
        "    'Transaction_history_with_the_account', 'First_time_iOS_by_vulnerable_user',\n",
        "    'Fraud_Type', '7_29_30', '40_41'\n",
        "]\n",
        "\n",
        "for col in category_columns:\n",
        "  train[col] = train[col].astype(str)\n",
        "\n",
        "# 나머지 열들 중 정수형은 int64로, 실수형은 float64로 변환\n",
        "int_columns = [\n",
        "    'Account_initial_balance', 'Account_balance',\n",
        "    'Account_remaining_amount_daily_limit_exceeded', 'Account_one_month_max_amount',\n",
        "    'Transaction_Amount', 'Distance', 'Time_difference_seconds'\n",
        "]\n",
        "\n",
        "float_columns = [\n",
        "    '35/34', '37/36', '36/34',\n",
        "     '거래까지걸린시간_소수', '거래까지걸린시간_ATM_소수',\n",
        "    '거래까지걸린시간_영업점_소수',\n",
        "]\n",
        "\n",
        "for col in int_columns:\n",
        "    train[col] = train[col].astype('int64')\n",
        "\n",
        "for col in float_columns:\n",
        "    train[col] = train[col].astype('float64')\n",
        "\n",
        "## 이상치 처리 - 금액\n",
        "cost_cols = [\n",
        "    'Account_initial_balance', 'Account_balance', 'Account_remaining_amount_daily_limit_exceeded', 'Account_one_month_max_amount',\n",
        "    'Transaction_Amount'\n",
        "]\n",
        "\n",
        "for col in cost_cols:\n",
        "    train[col] = handle_outliers(train[col])\n",
        "\n",
        "# 모든 Fraud_Type 목록 생성 (m 포함)\n",
        "fraud_types = train['Fraud_Type'].unique()\n",
        "\n",
        "\n",
        "# 모든 합성 데이터를 저장할 DataFrame 초기화\n",
        "all_synthetic_data = pd.DataFrame()\n",
        "\n",
        "N_SAMPLE = 90\n",
        "\n",
        "# 각 Fraud_Type에 대해 학습된 모델을 저장할 딕셔너리\n",
        "models_dict = {}\n",
        "\n",
        "# 각 Fraud_Type에 대해 합성 데이터 생성 및 저장\n",
        "for fraud_type in tqdm(fraud_types):\n",
        "    # 'm' Fraud_Type만 건너뛰기\n",
        "    if fraud_type == 'm':\n",
        "        continue\n",
        "\n",
        "    # EPOCH 설정\n",
        "    EPOCH = 100\n",
        "\n",
        "    print(f\"Processing Fraud_Type: {fraud_type}\")\n",
        "\n",
        "    # 해당 Fraud_Type에 대한 서브셋 생성\n",
        "    subset = train[train[\"Fraud_Type\"] == fraud_type]\n",
        "\n",
        "    # 모든 Fraud_Type에 대해 샘플링\n",
        "    subset = subset.sample(n=N_SAMPLE, random_state=42)\n",
        "\n",
        "    # Time_difference 열 제외 (초 단위로 변환된 컬럼만 사용)\n",
        "    subset = subset.drop('Time_difference', axis=1)\n",
        "\n",
        "\n",
        "    synthesizer =ACTGAN(\n",
        "                   epochs=100,\n",
        "                   cuda=True\n",
        "                        )\n",
        "\n",
        "    synthesizer.fit(subset)\n",
        "\n",
        "    # 학습된 모델을 딕셔너리에 저장\n",
        "    models_dict[fraud_type] = synthesizer\n",
        "\n",
        "    # 학습된 모델로 합성 데이터 생성\n",
        "    synthetic_subset = synthesizer.sample(num_rows=500)\n",
        "\n",
        "    for col in cost_cols:\n",
        "        synthetic_subset[col] = handle_outliers(synthetic_subset[col])\n",
        "\n",
        "    # Time_difference_seconds를 다시 timedelta로 변환\n",
        "    synthetic_subset['Time_difference'] = pd.to_timedelta(synthetic_subset['Time_difference_seconds'], unit='s')\n",
        "\n",
        "    # Time_difference_seconds 컬럼 제거\n",
        "    synthetic_subset = synthetic_subset.drop('Time_difference_seconds', axis=1)\n",
        "\n",
        "    # 생성된 데이터를 all_synthetic_data에 추가\n",
        "    all_synthetic_data = pd.concat([all_synthetic_data, synthetic_subset], ignore_index=True)\n",
        "\n",
        "    # 최종 결과 확인\n",
        "    print(\"\\nCurrent All Synthetic Data Shape:\", all_synthetic_data.shape)\n",
        "\n",
        "\n",
        "print(\"\\nFinal All Synthetic Data Shape:\", all_synthetic_data.shape)"
      ]
    },
    {
      "cell_type": "code",
      "execution_count": 18,
      "metadata": {
        "colab": {
          "base_uri": "https://localhost:8080/",
          "height": 460
        },
        "id": "5FLG4ieX5D-I",
        "outputId": "d1c8f42a-b36b-4686-a2f8-c0654f220ac8"
      },
      "outputs": [
        {
          "data": {
            "text/html": [
              "<div>\n",
              "<style scoped>\n",
              "    .dataframe tbody tr th:only-of-type {\n",
              "        vertical-align: middle;\n",
              "    }\n",
              "\n",
              "    .dataframe tbody tr th {\n",
              "        vertical-align: top;\n",
              "    }\n",
              "\n",
              "    .dataframe thead th {\n",
              "        text-align: right;\n",
              "    }\n",
              "</style>\n",
              "<table border=\"1\" class=\"dataframe\">\n",
              "  <thead>\n",
              "    <tr style=\"text-align: right;\">\n",
              "      <th></th>\n",
              "      <th>Fraud_Type</th>\n",
              "    </tr>\n",
              "  </thead>\n",
              "  <tbody>\n",
              "    <tr>\n",
              "      <th>h</th>\n",
              "      <td>500</td>\n",
              "    </tr>\n",
              "    <tr>\n",
              "      <th>d</th>\n",
              "      <td>500</td>\n",
              "    </tr>\n",
              "    <tr>\n",
              "      <th>f</th>\n",
              "      <td>500</td>\n",
              "    </tr>\n",
              "    <tr>\n",
              "      <th>j</th>\n",
              "      <td>500</td>\n",
              "    </tr>\n",
              "    <tr>\n",
              "      <th>i</th>\n",
              "      <td>500</td>\n",
              "    </tr>\n",
              "    <tr>\n",
              "      <th>b</th>\n",
              "      <td>500</td>\n",
              "    </tr>\n",
              "    <tr>\n",
              "      <th>g</th>\n",
              "      <td>500</td>\n",
              "    </tr>\n",
              "    <tr>\n",
              "      <th>l</th>\n",
              "      <td>500</td>\n",
              "    </tr>\n",
              "    <tr>\n",
              "      <th>k</th>\n",
              "      <td>500</td>\n",
              "    </tr>\n",
              "    <tr>\n",
              "      <th>c</th>\n",
              "      <td>500</td>\n",
              "    </tr>\n",
              "    <tr>\n",
              "      <th>a</th>\n",
              "      <td>500</td>\n",
              "    </tr>\n",
              "    <tr>\n",
              "      <th>e</th>\n",
              "      <td>500</td>\n",
              "    </tr>\n",
              "  </tbody>\n",
              "</table>\n",
              "</div><br><label><b>dtype:</b> int64</label>"
            ],
            "text/plain": [
              "h    500\n",
              "d    500\n",
              "f    500\n",
              "j    500\n",
              "i    500\n",
              "b    500\n",
              "g    500\n",
              "l    500\n",
              "k    500\n",
              "c    500\n",
              "a    500\n",
              "e    500\n",
              "Name: Fraud_Type, dtype: int64"
            ]
          },
          "execution_count": 18,
          "metadata": {},
          "output_type": "execute_result"
        }
      ],
      "source": [
        "all_synthetic_data[\"Fraud_Type\"].value_counts()"
      ]
    },
    {
      "cell_type": "markdown",
      "metadata": {},
      "source": [
        "4. 데이터 후처리"
      ]
    },
    {
      "cell_type": "code",
      "execution_count": 19,
      "metadata": {
        "execution": {
          "iopub.execute_input": "2024-08-26T01:38:50.119963Z",
          "iopub.status.busy": "2024-08-26T01:38:50.119279Z",
          "iopub.status.idle": "2024-08-26T01:38:50.130924Z",
          "shell.execute_reply": "2024-08-26T01:38:50.129884Z",
          "shell.execute_reply.started": "2024-08-26T01:38:50.119928Z"
        },
        "id": "u0y53NkYkcmX",
        "trusted": true
      },
      "outputs": [],
      "source": [
        "all_synthetic_data['Account_one_month_std_dev'] = (all_synthetic_data['35/34']*all_synthetic_data['Account_one_month_max_amount']).astype(int)\n",
        "all_synthetic_data['Account_dawn_one_month_max_amount'] = (all_synthetic_data['36/34']*all_synthetic_data['Account_one_month_max_amount']).astype(int)\n",
        "all_synthetic_data['Account_dawn_one_month_std_dev'] = (all_synthetic_data['37/36']*all_synthetic_data['Account_dawn_one_month_max_amount']).astype(int)\n",
        "\n",
        "all_synthetic_data.drop(columns=['35/34', '36/34', '37/36'], inplace=True)"
      ]
    },
    {
      "cell_type": "code",
      "execution_count": 20,
      "metadata": {
        "execution": {
          "iopub.execute_input": "2024-08-26T01:38:54.775692Z",
          "iopub.status.busy": "2024-08-26T01:38:54.774843Z",
          "iopub.status.idle": "2024-08-26T01:38:54.792686Z",
          "shell.execute_reply": "2024-08-26T01:38:54.791811Z",
          "shell.execute_reply.started": "2024-08-26T01:38:54.775661Z"
        },
        "id": "K-acGAIokcmY",
        "trusted": true
      },
      "outputs": [],
      "source": [
        "all_synthetic_data[['Channel', 'Operating_System']] = all_synthetic_data['40_41'].str.split('_', expand=True)\n",
        "\n",
        "all_synthetic_data[['Customer_credit_rating', 'Account_indicator_release_limit_excess', 'Account_amount_daily_limit']] = all_synthetic_data['7_29_30'].str.split('_', expand=True)\n",
        "all_synthetic_data['Account_indicator_release_limit_excess'] = all_synthetic_data['Account_indicator_release_limit_excess'].astype(int)\n",
        "all_synthetic_data['Account_amount_daily_limit'] = all_synthetic_data['Account_amount_daily_limit'].astype(int)\n",
        "\n",
        "all_synthetic_data['Transaction_Failure_Status'] = all_synthetic_data['Error_Code'].apply(lambda x: 0 if x == 'a' else 1)\n",
        "\n",
        "all_synthetic_data.drop(columns=['7_29_30', '40_41'], inplace=True)"
      ]
    },
    {
      "cell_type": "code",
      "execution_count": 21,
      "metadata": {
        "colab": {
          "base_uri": "https://localhost:8080/"
        },
        "execution": {
          "iopub.execute_input": "2024-08-26T01:41:43.028505Z",
          "iopub.status.busy": "2024-08-26T01:41:43.027842Z",
          "iopub.status.idle": "2024-08-26T01:41:43.034558Z",
          "shell.execute_reply": "2024-08-26T01:41:43.033519Z",
          "shell.execute_reply.started": "2024-08-26T01:41:43.028474Z"
        },
        "id": "H5uUdGRfkcmZ",
        "outputId": "4e07a4fd-fc80-4ccc-a5c7-b6e888bc89d8",
        "trusted": true
      },
      "outputs": [
        {
          "name": "stdout",
          "output_type": "stream",
          "text": [
            "Transaction_hour\n",
            "거래까지걸린시간_소수\n",
            "거래까지걸린시간_ATM_소수\n",
            "거래까지걸린시간_영업점_소수\n",
            "거래당시나이\n",
            "\n",
            "ID\n",
            "Customer_Gender\n",
            "Customer_personal_identifier\n",
            "Customer_identification_number\n",
            "Customer_registration_datetime\n",
            "Account_account_number\n",
            "Account_creation_datetime\n",
            "Transaction_Datetime\n",
            "IP_Address\n",
            "MAC_Address\n",
            "Location\n",
            "Recipient_Account_Number\n",
            "Last_atm_transaction_datetime\n",
            "Last_bank_branch_transaction_datetime\n",
            "Transaction_resumed_date\n"
          ]
        }
      ],
      "source": [
        "for col in all_synthetic_data.columns:\n",
        "    if col not in train_all.columns:\n",
        "        print(col)\n",
        "print(\"\")\n",
        "for col in train_all.columns:\n",
        "    if col not in all_synthetic_data.columns:\n",
        "        print(col)"
      ]
    },
    {
      "cell_type": "code",
      "execution_count": 22,
      "metadata": {
        "execution": {
          "iopub.execute_input": "2024-08-26T01:39:55.750926Z",
          "iopub.status.busy": "2024-08-26T01:39:55.750545Z",
          "iopub.status.idle": "2024-08-26T01:39:55.843056Z",
          "shell.execute_reply": "2024-08-26T01:39:55.842029Z",
          "shell.execute_reply.started": "2024-08-26T01:39:55.750898Z"
        },
        "id": "_72rvl7lkcma",
        "trusted": true
      },
      "outputs": [],
      "source": [
        "import math\n",
        "\n",
        "def convert_from_float_year(float_year):\n",
        "    year = int(math.floor(float_year))\n",
        "    fractional_part = float_year - year\n",
        "    start_of_year = pd.Timestamp(year=year, month=1, day=1)\n",
        "    next_year = pd.Timestamp(year=year + 1, month=1, day=1)\n",
        "    year_duration = (next_year - start_of_year).total_seconds()\n",
        "    elapsed_seconds = round(fractional_part * year_duration)  # 초를 반올림\n",
        "    result_date = start_of_year + pd.to_timedelta(elapsed_seconds, unit='s')\n",
        "    return result_date\n",
        "\n",
        "all_synthetic_data['거래일자_소수'] = all_synthetic_data['Customer_Birthyear'] + all_synthetic_data['거래당시나이']\n",
        "all_synthetic_data['거래재개일자_소수'] = all_synthetic_data['거래일자_소수'] - all_synthetic_data['거래까지걸린시간_소수']\n",
        "all_synthetic_data['마지막ATM거래일자_소수'] = all_synthetic_data['거래일자_소수'] - all_synthetic_data['거래까지걸린시간_ATM_소수']\n",
        "all_synthetic_data['마지막영업점거래일자_소수'] = all_synthetic_data['거래일자_소수'] - all_synthetic_data['거래까지걸린시간_영업점_소수']\n",
        "\n",
        "all_synthetic_data['Transaction_Datetime'] = all_synthetic_data['거래일자_소수'].apply(convert_from_float_year)\n",
        "all_synthetic_data['Transaction_resumed_date'] = all_synthetic_data['거래재개일자_소수'].apply(convert_from_float_year)\n",
        "all_synthetic_data['Last_atm_transaction_datetime'] = all_synthetic_data['마지막ATM거래일자_소수'].apply(convert_from_float_year)\n",
        "all_synthetic_data['Last_bank_branch_transaction_datetime'] = all_synthetic_data['마지막영업점거래일자_소수'].apply(convert_from_float_year)\n",
        "\n",
        "all_synthetic_data.drop(columns=['거래일자_소수', '거래재개일자_소수', '마지막ATM거래일자_소수', '마지막영업점거래일자_소수',\n",
        "                                '거래까지걸린시간_소수', '거래까지걸린시간_ATM_소수', '거래까지걸린시간_영업점_소수', '거래당시나이',\n",
        "                                ], inplace=True)"
      ]
    },
    {
      "cell_type": "code",
      "execution_count": 23,
      "metadata": {
        "execution": {
          "iopub.execute_input": "2024-08-26T01:41:38.777413Z",
          "iopub.status.busy": "2024-08-26T01:41:38.777014Z",
          "iopub.status.idle": "2024-08-26T01:41:38.788625Z",
          "shell.execute_reply": "2024-08-26T01:41:38.787691Z",
          "shell.execute_reply.started": "2024-08-26T01:41:38.777383Z"
        },
        "id": "K3QoHddEkcma",
        "trusted": true
      },
      "outputs": [],
      "source": [
        "all_synthetic_data['Customer_personal_identifier'] = '홍길동'\n",
        "all_synthetic_data['Customer_identification_number'] = 'aaaaaa-aaaaaaa'\n",
        "all_synthetic_data['Account_account_number'] = 'aaaaaaaaaa'\n",
        "all_synthetic_data['Customer_Gender'] = 'male'\n",
        "all_synthetic_data['IP_Address'] = '38.117.123.196'\n",
        "all_synthetic_data['MAC_Address'] = '5e:76:37:86:60:c3'\n",
        "all_synthetic_data['Location'] = '서울특별시 강서구 가양동 37.568238 126.845059'\n",
        "all_synthetic_data['Recipient_Account_Number'] = 'aaaaaaaaaa'\n",
        "all_synthetic_data['Customer_registration_datetime'] = '1999-12-31 23:59:59'\n",
        "all_synthetic_data['Account_creation_datetime'] = '1999-12-31 23:59:59'"
      ]
    },
    {
      "cell_type": "code",
      "execution_count": 24,
      "metadata": {
        "colab": {
          "base_uri": "https://localhost:8080/",
          "height": 602
        },
        "execution": {
          "iopub.execute_input": "2024-08-25T10:40:21.207818Z",
          "iopub.status.busy": "2024-08-25T10:40:21.207498Z",
          "iopub.status.idle": "2024-08-25T10:40:21.239591Z",
          "shell.execute_reply": "2024-08-25T10:40:21.238507Z",
          "shell.execute_reply.started": "2024-08-25T10:40:21.207788Z"
        },
        "id": "CTXDCLiSkcmb",
        "outputId": "ceeb1494-689d-47bf-91f6-893eadd98866",
        "trusted": true
      },
      "outputs": [
        {
          "data": {
            "application/vnd.google.colaboratory.intrinsic+json": {
              "type": "dataframe",
              "variable_name": "all_synthetic_data"
            },
            "text/html": [
              "\n",
              "  <div id=\"df-4dc9cdd1-6f93-4e86-a16b-f9f0a617e29a\" class=\"colab-df-container\">\n",
              "    <div>\n",
              "<style scoped>\n",
              "    .dataframe tbody tr th:only-of-type {\n",
              "        vertical-align: middle;\n",
              "    }\n",
              "\n",
              "    .dataframe tbody tr th {\n",
              "        vertical-align: top;\n",
              "    }\n",
              "\n",
              "    .dataframe thead th {\n",
              "        text-align: right;\n",
              "    }\n",
              "</style>\n",
              "<table border=\"1\" class=\"dataframe\">\n",
              "  <thead>\n",
              "    <tr style=\"text-align: right;\">\n",
              "      <th></th>\n",
              "      <th>Customer_Birthyear</th>\n",
              "      <th>Customer_flag_change_of_authentication_1</th>\n",
              "      <th>Customer_flag_change_of_authentication_2</th>\n",
              "      <th>Customer_flag_change_of_authentication_3</th>\n",
              "      <th>Customer_flag_change_of_authentication_4</th>\n",
              "      <th>Customer_rooting_jailbreak_indicator</th>\n",
              "      <th>Customer_mobile_roaming_indicator</th>\n",
              "      <th>Customer_VPN_Indicator</th>\n",
              "      <th>Customer_loan_type</th>\n",
              "      <th>Customer_flag_terminal_malicious_behavior_1</th>\n",
              "      <th>...</th>\n",
              "      <th>Customer_personal_identifier</th>\n",
              "      <th>Customer_identification_number</th>\n",
              "      <th>Account_account_number</th>\n",
              "      <th>Customer_Gender</th>\n",
              "      <th>IP_Address</th>\n",
              "      <th>MAC_Address</th>\n",
              "      <th>Location</th>\n",
              "      <th>Recipient_Account_Number</th>\n",
              "      <th>Customer_registration_datetime</th>\n",
              "      <th>Account_creation_datetime</th>\n",
              "    </tr>\n",
              "  </thead>\n",
              "  <tbody>\n",
              "    <tr>\n",
              "      <th>0</th>\n",
              "      <td>1999</td>\n",
              "      <td>1</td>\n",
              "      <td>1</td>\n",
              "      <td>1</td>\n",
              "      <td>0</td>\n",
              "      <td>0</td>\n",
              "      <td>0</td>\n",
              "      <td>0</td>\n",
              "      <td>b</td>\n",
              "      <td>0</td>\n",
              "      <td>...</td>\n",
              "      <td>홍길동</td>\n",
              "      <td>aaaaaa-aaaaaaa</td>\n",
              "      <td>aaaaaaaaaa</td>\n",
              "      <td>male</td>\n",
              "      <td>38.117.123.196</td>\n",
              "      <td>5e:76:37:86:60:c3</td>\n",
              "      <td>서울특별시 강서구 가양동 37.568238 126.845059</td>\n",
              "      <td>aaaaaaaaaa</td>\n",
              "      <td>1999-12-31 23:59:59</td>\n",
              "      <td>1999-12-31 23:59:59</td>\n",
              "    </tr>\n",
              "    <tr>\n",
              "      <th>1</th>\n",
              "      <td>1971</td>\n",
              "      <td>1</td>\n",
              "      <td>0</td>\n",
              "      <td>1</td>\n",
              "      <td>1</td>\n",
              "      <td>0</td>\n",
              "      <td>0</td>\n",
              "      <td>0</td>\n",
              "      <td>c</td>\n",
              "      <td>0</td>\n",
              "      <td>...</td>\n",
              "      <td>홍길동</td>\n",
              "      <td>aaaaaa-aaaaaaa</td>\n",
              "      <td>aaaaaaaaaa</td>\n",
              "      <td>male</td>\n",
              "      <td>38.117.123.196</td>\n",
              "      <td>5e:76:37:86:60:c3</td>\n",
              "      <td>서울특별시 강서구 가양동 37.568238 126.845059</td>\n",
              "      <td>aaaaaaaaaa</td>\n",
              "      <td>1999-12-31 23:59:59</td>\n",
              "      <td>1999-12-31 23:59:59</td>\n",
              "    </tr>\n",
              "    <tr>\n",
              "      <th>2</th>\n",
              "      <td>2004</td>\n",
              "      <td>1</td>\n",
              "      <td>0</td>\n",
              "      <td>0</td>\n",
              "      <td>1</td>\n",
              "      <td>0</td>\n",
              "      <td>0</td>\n",
              "      <td>0</td>\n",
              "      <td>c</td>\n",
              "      <td>0</td>\n",
              "      <td>...</td>\n",
              "      <td>홍길동</td>\n",
              "      <td>aaaaaa-aaaaaaa</td>\n",
              "      <td>aaaaaaaaaa</td>\n",
              "      <td>male</td>\n",
              "      <td>38.117.123.196</td>\n",
              "      <td>5e:76:37:86:60:c3</td>\n",
              "      <td>서울특별시 강서구 가양동 37.568238 126.845059</td>\n",
              "      <td>aaaaaaaaaa</td>\n",
              "      <td>1999-12-31 23:59:59</td>\n",
              "      <td>1999-12-31 23:59:59</td>\n",
              "    </tr>\n",
              "    <tr>\n",
              "      <th>3</th>\n",
              "      <td>1998</td>\n",
              "      <td>1</td>\n",
              "      <td>1</td>\n",
              "      <td>0</td>\n",
              "      <td>0</td>\n",
              "      <td>0</td>\n",
              "      <td>0</td>\n",
              "      <td>0</td>\n",
              "      <td>c</td>\n",
              "      <td>0</td>\n",
              "      <td>...</td>\n",
              "      <td>홍길동</td>\n",
              "      <td>aaaaaa-aaaaaaa</td>\n",
              "      <td>aaaaaaaaaa</td>\n",
              "      <td>male</td>\n",
              "      <td>38.117.123.196</td>\n",
              "      <td>5e:76:37:86:60:c3</td>\n",
              "      <td>서울특별시 강서구 가양동 37.568238 126.845059</td>\n",
              "      <td>aaaaaaaaaa</td>\n",
              "      <td>1999-12-31 23:59:59</td>\n",
              "      <td>1999-12-31 23:59:59</td>\n",
              "    </tr>\n",
              "    <tr>\n",
              "      <th>4</th>\n",
              "      <td>2002</td>\n",
              "      <td>1</td>\n",
              "      <td>1</td>\n",
              "      <td>1</td>\n",
              "      <td>1</td>\n",
              "      <td>1</td>\n",
              "      <td>0</td>\n",
              "      <td>0</td>\n",
              "      <td>c</td>\n",
              "      <td>0</td>\n",
              "      <td>...</td>\n",
              "      <td>홍길동</td>\n",
              "      <td>aaaaaa-aaaaaaa</td>\n",
              "      <td>aaaaaaaaaa</td>\n",
              "      <td>male</td>\n",
              "      <td>38.117.123.196</td>\n",
              "      <td>5e:76:37:86:60:c3</td>\n",
              "      <td>서울특별시 강서구 가양동 37.568238 126.845059</td>\n",
              "      <td>aaaaaaaaaa</td>\n",
              "      <td>1999-12-31 23:59:59</td>\n",
              "      <td>1999-12-31 23:59:59</td>\n",
              "    </tr>\n",
              "  </tbody>\n",
              "</table>\n",
              "<p>5 rows × 64 columns</p>\n",
              "</div>\n",
              "    <div class=\"colab-df-buttons\">\n",
              "\n",
              "  <div class=\"colab-df-container\">\n",
              "    <button class=\"colab-df-convert\" onclick=\"convertToInteractive('df-4dc9cdd1-6f93-4e86-a16b-f9f0a617e29a')\"\n",
              "            title=\"Convert this dataframe to an interactive table.\"\n",
              "            style=\"display:none;\">\n",
              "\n",
              "  <svg xmlns=\"http://www.w3.org/2000/svg\" height=\"24px\" viewBox=\"0 -960 960 960\">\n",
              "    <path d=\"M120-120v-720h720v720H120Zm60-500h600v-160H180v160Zm220 220h160v-160H400v160Zm0 220h160v-160H400v160ZM180-400h160v-160H180v160Zm440 0h160v-160H620v160ZM180-180h160v-160H180v160Zm440 0h160v-160H620v160Z\"/>\n",
              "  </svg>\n",
              "    </button>\n",
              "\n",
              "  <style>\n",
              "    .colab-df-container {\n",
              "      display:flex;\n",
              "      gap: 12px;\n",
              "    }\n",
              "\n",
              "    .colab-df-convert {\n",
              "      background-color: #E8F0FE;\n",
              "      border: none;\n",
              "      border-radius: 50%;\n",
              "      cursor: pointer;\n",
              "      display: none;\n",
              "      fill: #1967D2;\n",
              "      height: 32px;\n",
              "      padding: 0 0 0 0;\n",
              "      width: 32px;\n",
              "    }\n",
              "\n",
              "    .colab-df-convert:hover {\n",
              "      background-color: #E2EBFA;\n",
              "      box-shadow: 0px 1px 2px rgba(60, 64, 67, 0.3), 0px 1px 3px 1px rgba(60, 64, 67, 0.15);\n",
              "      fill: #174EA6;\n",
              "    }\n",
              "\n",
              "    .colab-df-buttons div {\n",
              "      margin-bottom: 4px;\n",
              "    }\n",
              "\n",
              "    [theme=dark] .colab-df-convert {\n",
              "      background-color: #3B4455;\n",
              "      fill: #D2E3FC;\n",
              "    }\n",
              "\n",
              "    [theme=dark] .colab-df-convert:hover {\n",
              "      background-color: #434B5C;\n",
              "      box-shadow: 0px 1px 3px 1px rgba(0, 0, 0, 0.15);\n",
              "      filter: drop-shadow(0px 1px 2px rgba(0, 0, 0, 0.3));\n",
              "      fill: #FFFFFF;\n",
              "    }\n",
              "  </style>\n",
              "\n",
              "    <script>\n",
              "      const buttonEl =\n",
              "        document.querySelector('#df-4dc9cdd1-6f93-4e86-a16b-f9f0a617e29a button.colab-df-convert');\n",
              "      buttonEl.style.display =\n",
              "        google.colab.kernel.accessAllowed ? 'block' : 'none';\n",
              "\n",
              "      async function convertToInteractive(key) {\n",
              "        const element = document.querySelector('#df-4dc9cdd1-6f93-4e86-a16b-f9f0a617e29a');\n",
              "        const dataTable =\n",
              "          await google.colab.kernel.invokeFunction('convertToInteractive',\n",
              "                                                    [key], {});\n",
              "        if (!dataTable) return;\n",
              "\n",
              "        const docLinkHtml = 'Like what you see? Visit the ' +\n",
              "          '<a target=\"_blank\" href=https://colab.research.google.com/notebooks/data_table.ipynb>data table notebook</a>'\n",
              "          + ' to learn more about interactive tables.';\n",
              "        element.innerHTML = '';\n",
              "        dataTable['output_type'] = 'display_data';\n",
              "        await google.colab.output.renderOutput(dataTable, element);\n",
              "        const docLink = document.createElement('div');\n",
              "        docLink.innerHTML = docLinkHtml;\n",
              "        element.appendChild(docLink);\n",
              "      }\n",
              "    </script>\n",
              "  </div>\n",
              "\n",
              "\n",
              "<div id=\"df-9f5632da-3f41-4a4e-ad1a-55797077a97f\">\n",
              "  <button class=\"colab-df-quickchart\" onclick=\"quickchart('df-9f5632da-3f41-4a4e-ad1a-55797077a97f')\"\n",
              "            title=\"Suggest charts\"\n",
              "            style=\"display:none;\">\n",
              "\n",
              "<svg xmlns=\"http://www.w3.org/2000/svg\" height=\"24px\"viewBox=\"0 0 24 24\"\n",
              "     width=\"24px\">\n",
              "    <g>\n",
              "        <path d=\"M19 3H5c-1.1 0-2 .9-2 2v14c0 1.1.9 2 2 2h14c1.1 0 2-.9 2-2V5c0-1.1-.9-2-2-2zM9 17H7v-7h2v7zm4 0h-2V7h2v10zm4 0h-2v-4h2v4z\"/>\n",
              "    </g>\n",
              "</svg>\n",
              "  </button>\n",
              "\n",
              "<style>\n",
              "  .colab-df-quickchart {\n",
              "      --bg-color: #E8F0FE;\n",
              "      --fill-color: #1967D2;\n",
              "      --hover-bg-color: #E2EBFA;\n",
              "      --hover-fill-color: #174EA6;\n",
              "      --disabled-fill-color: #AAA;\n",
              "      --disabled-bg-color: #DDD;\n",
              "  }\n",
              "\n",
              "  [theme=dark] .colab-df-quickchart {\n",
              "      --bg-color: #3B4455;\n",
              "      --fill-color: #D2E3FC;\n",
              "      --hover-bg-color: #434B5C;\n",
              "      --hover-fill-color: #FFFFFF;\n",
              "      --disabled-bg-color: #3B4455;\n",
              "      --disabled-fill-color: #666;\n",
              "  }\n",
              "\n",
              "  .colab-df-quickchart {\n",
              "    background-color: var(--bg-color);\n",
              "    border: none;\n",
              "    border-radius: 50%;\n",
              "    cursor: pointer;\n",
              "    display: none;\n",
              "    fill: var(--fill-color);\n",
              "    height: 32px;\n",
              "    padding: 0;\n",
              "    width: 32px;\n",
              "  }\n",
              "\n",
              "  .colab-df-quickchart:hover {\n",
              "    background-color: var(--hover-bg-color);\n",
              "    box-shadow: 0 1px 2px rgba(60, 64, 67, 0.3), 0 1px 3px 1px rgba(60, 64, 67, 0.15);\n",
              "    fill: var(--button-hover-fill-color);\n",
              "  }\n",
              "\n",
              "  .colab-df-quickchart-complete:disabled,\n",
              "  .colab-df-quickchart-complete:disabled:hover {\n",
              "    background-color: var(--disabled-bg-color);\n",
              "    fill: var(--disabled-fill-color);\n",
              "    box-shadow: none;\n",
              "  }\n",
              "\n",
              "  .colab-df-spinner {\n",
              "    border: 2px solid var(--fill-color);\n",
              "    border-color: transparent;\n",
              "    border-bottom-color: var(--fill-color);\n",
              "    animation:\n",
              "      spin 1s steps(1) infinite;\n",
              "  }\n",
              "\n",
              "  @keyframes spin {\n",
              "    0% {\n",
              "      border-color: transparent;\n",
              "      border-bottom-color: var(--fill-color);\n",
              "      border-left-color: var(--fill-color);\n",
              "    }\n",
              "    20% {\n",
              "      border-color: transparent;\n",
              "      border-left-color: var(--fill-color);\n",
              "      border-top-color: var(--fill-color);\n",
              "    }\n",
              "    30% {\n",
              "      border-color: transparent;\n",
              "      border-left-color: var(--fill-color);\n",
              "      border-top-color: var(--fill-color);\n",
              "      border-right-color: var(--fill-color);\n",
              "    }\n",
              "    40% {\n",
              "      border-color: transparent;\n",
              "      border-right-color: var(--fill-color);\n",
              "      border-top-color: var(--fill-color);\n",
              "    }\n",
              "    60% {\n",
              "      border-color: transparent;\n",
              "      border-right-color: var(--fill-color);\n",
              "    }\n",
              "    80% {\n",
              "      border-color: transparent;\n",
              "      border-right-color: var(--fill-color);\n",
              "      border-bottom-color: var(--fill-color);\n",
              "    }\n",
              "    90% {\n",
              "      border-color: transparent;\n",
              "      border-bottom-color: var(--fill-color);\n",
              "    }\n",
              "  }\n",
              "</style>\n",
              "\n",
              "  <script>\n",
              "    async function quickchart(key) {\n",
              "      const quickchartButtonEl =\n",
              "        document.querySelector('#' + key + ' button');\n",
              "      quickchartButtonEl.disabled = true;  // To prevent multiple clicks.\n",
              "      quickchartButtonEl.classList.add('colab-df-spinner');\n",
              "      try {\n",
              "        const charts = await google.colab.kernel.invokeFunction(\n",
              "            'suggestCharts', [key], {});\n",
              "      } catch (error) {\n",
              "        console.error('Error during call to suggestCharts:', error);\n",
              "      }\n",
              "      quickchartButtonEl.classList.remove('colab-df-spinner');\n",
              "      quickchartButtonEl.classList.add('colab-df-quickchart-complete');\n",
              "    }\n",
              "    (() => {\n",
              "      let quickchartButtonEl =\n",
              "        document.querySelector('#df-9f5632da-3f41-4a4e-ad1a-55797077a97f button');\n",
              "      quickchartButtonEl.style.display =\n",
              "        google.colab.kernel.accessAllowed ? 'block' : 'none';\n",
              "    })();\n",
              "  </script>\n",
              "</div>\n",
              "\n",
              "    </div>\n",
              "  </div>\n"
            ],
            "text/plain": [
              "   Customer_Birthyear Customer_flag_change_of_authentication_1  \\\n",
              "0                1999                                        1   \n",
              "1                1971                                        1   \n",
              "2                2004                                        1   \n",
              "3                1998                                        1   \n",
              "4                2002                                        1   \n",
              "\n",
              "  Customer_flag_change_of_authentication_2  \\\n",
              "0                                        1   \n",
              "1                                        0   \n",
              "2                                        0   \n",
              "3                                        1   \n",
              "4                                        1   \n",
              "\n",
              "  Customer_flag_change_of_authentication_3  \\\n",
              "0                                        1   \n",
              "1                                        1   \n",
              "2                                        0   \n",
              "3                                        0   \n",
              "4                                        1   \n",
              "\n",
              "  Customer_flag_change_of_authentication_4  \\\n",
              "0                                        0   \n",
              "1                                        1   \n",
              "2                                        1   \n",
              "3                                        0   \n",
              "4                                        1   \n",
              "\n",
              "  Customer_rooting_jailbreak_indicator Customer_mobile_roaming_indicator  \\\n",
              "0                                    0                                 0   \n",
              "1                                    0                                 0   \n",
              "2                                    0                                 0   \n",
              "3                                    0                                 0   \n",
              "4                                    1                                 0   \n",
              "\n",
              "  Customer_VPN_Indicator Customer_loan_type  \\\n",
              "0                      0                  b   \n",
              "1                      0                  c   \n",
              "2                      0                  c   \n",
              "3                      0                  c   \n",
              "4                      0                  c   \n",
              "\n",
              "  Customer_flag_terminal_malicious_behavior_1  ...  \\\n",
              "0                                           0  ...   \n",
              "1                                           0  ...   \n",
              "2                                           0  ...   \n",
              "3                                           0  ...   \n",
              "4                                           0  ...   \n",
              "\n",
              "  Customer_personal_identifier Customer_identification_number  \\\n",
              "0                          홍길동                 aaaaaa-aaaaaaa   \n",
              "1                          홍길동                 aaaaaa-aaaaaaa   \n",
              "2                          홍길동                 aaaaaa-aaaaaaa   \n",
              "3                          홍길동                 aaaaaa-aaaaaaa   \n",
              "4                          홍길동                 aaaaaa-aaaaaaa   \n",
              "\n",
              "  Account_account_number Customer_Gender      IP_Address        MAC_Address  \\\n",
              "0             aaaaaaaaaa            male  38.117.123.196  5e:76:37:86:60:c3   \n",
              "1             aaaaaaaaaa            male  38.117.123.196  5e:76:37:86:60:c3   \n",
              "2             aaaaaaaaaa            male  38.117.123.196  5e:76:37:86:60:c3   \n",
              "3             aaaaaaaaaa            male  38.117.123.196  5e:76:37:86:60:c3   \n",
              "4             aaaaaaaaaa            male  38.117.123.196  5e:76:37:86:60:c3   \n",
              "\n",
              "                             Location Recipient_Account_Number  \\\n",
              "0  서울특별시 강서구 가양동 37.568238 126.845059               aaaaaaaaaa   \n",
              "1  서울특별시 강서구 가양동 37.568238 126.845059               aaaaaaaaaa   \n",
              "2  서울특별시 강서구 가양동 37.568238 126.845059               aaaaaaaaaa   \n",
              "3  서울특별시 강서구 가양동 37.568238 126.845059               aaaaaaaaaa   \n",
              "4  서울특별시 강서구 가양동 37.568238 126.845059               aaaaaaaaaa   \n",
              "\n",
              "   Customer_registration_datetime  Account_creation_datetime  \n",
              "0             1999-12-31 23:59:59        1999-12-31 23:59:59  \n",
              "1             1999-12-31 23:59:59        1999-12-31 23:59:59  \n",
              "2             1999-12-31 23:59:59        1999-12-31 23:59:59  \n",
              "3             1999-12-31 23:59:59        1999-12-31 23:59:59  \n",
              "4             1999-12-31 23:59:59        1999-12-31 23:59:59  \n",
              "\n",
              "[5 rows x 64 columns]"
            ]
          },
          "execution_count": 24,
          "metadata": {},
          "output_type": "execute_result"
        }
      ],
      "source": [
        "all_synthetic_data.head()"
      ]
    },
    {
      "cell_type": "code",
      "execution_count": 25,
      "metadata": {
        "colab": {
          "base_uri": "https://localhost:8080/"
        },
        "execution": {
          "iopub.execute_input": "2024-08-26T01:41:49.248374Z",
          "iopub.status.busy": "2024-08-26T01:41:49.247744Z",
          "iopub.status.idle": "2024-08-26T01:41:49.264879Z",
          "shell.execute_reply": "2024-08-26T01:41:49.263838Z",
          "shell.execute_reply.started": "2024-08-26T01:41:49.248336Z"
        },
        "id": "KGWpSUOLkcmc",
        "outputId": "ba5e1b10-029b-4226-c65e-4fff79a60720",
        "trusted": true
      },
      "outputs": [
        {
          "name": "stdout",
          "output_type": "stream",
          "text": [
            "(6000, 64)\n"
          ]
        }
      ],
      "source": [
        "# all_synthetic_data의 열 순서를 test_all의 열 순서로 변경\n",
        "hour = all_synthetic_data['Transaction_hour']\n",
        "all_synthetic_data = all_synthetic_data.reindex(columns=train_all.columns)\n",
        "all_synthetic_data.drop(columns='ID', inplace=True)\n",
        "all_synthetic_data = pd.concat((hour, all_synthetic_data), axis=1)\n",
        "print(all_synthetic_data.shape)"
      ]
    },
    {
      "cell_type": "code",
      "execution_count": 26,
      "metadata": {
        "execution": {
          "iopub.execute_input": "2024-08-26T01:41:49.855112Z",
          "iopub.status.busy": "2024-08-26T01:41:49.854067Z",
          "iopub.status.idle": "2024-08-26T01:41:49.898155Z",
          "shell.execute_reply": "2024-08-26T01:41:49.897357Z",
          "shell.execute_reply.started": "2024-08-26T01:41:49.855075Z"
        },
        "id": "9Ym7Ma41kcmc",
        "trusted": true
      },
      "outputs": [],
      "source": [
        "all_synthetic_data.to_csv('/data/ACTGAN_clf_submission.csv', encoding='UTF-8-sig', index=False)"
      ]
    }
  ],
  "metadata": {
    "accelerator": "GPU",
    "colab": {
      "gpuType": "T4",
      "provenance": []
    },
    "kaggle": {
      "accelerator": "gpu",
      "dataSources": [
        {
          "datasetId": 5554503,
          "sourceId": 9188637,
          "sourceType": "datasetVersion"
        }
      ],
      "dockerImageVersionId": 30747,
      "isGpuEnabled": true,
      "isInternetEnabled": true,
      "language": "python",
      "sourceType": "notebook"
    },
    "kernelspec": {
      "display_name": "Python 3",
      "name": "python3"
    },
    "language_info": {
      "codemirror_mode": {
        "name": "ipython",
        "version": 3
      },
      "file_extension": ".py",
      "mimetype": "text/x-python",
      "name": "python",
      "nbconvert_exporter": "python",
      "pygments_lexer": "ipython3",
      "version": "3.10.13"
    }
  },
  "nbformat": 4,
  "nbformat_minor": 0
}
